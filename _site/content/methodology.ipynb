{
 "cells": [
  {
   "cell_type": "markdown",
   "metadata": {},
   "source": [
    "# Data collection\n",
    "\n",
    "Household data can be efficiently collected using the mobile survey integrated in HEDERA collect. The survey optimizes the ESMAP Energy Survey based on the Multi-tier framework, and can be efficiently completed in less than 15 minutes. \n",
    "\n",
    "HEDERA offers two approaches for data collection\n",
    "\n",
    "* **In Person** (the App is used by loan officers during household visits)\n",
    "\n",
    "* **Combination of in person and telephon interview** (the App is used by both loan officers, for example to record GPS, and by employees interviewing the clients by telephone). This approach was used in the pilot project with\n",
    "[Cooperativa Fondesurco](http://hedera.online/case_studies/fondesurco.html)\n",
    "\n",
    "\n",
    "In both cases, collected client data can be integrated into exiting databases available at the institution, in order to perform analysis including demographic, social, and credit historical data"
   ]
  },
  {
   "cell_type": "code",
   "execution_count": null,
   "metadata": {},
   "outputs": [],
   "source": []
  }
 ],
 "metadata": {
  "kernelspec": {
   "display_name": "Python 3",
   "language": "python",
   "name": "python3"
  },
  "language_info": {
   "codemirror_mode": {
    "name": "ipython",
    "version": 3
   },
   "file_extension": ".py",
   "mimetype": "text/x-python",
   "name": "python",
   "nbconvert_exporter": "python",
   "pygments_lexer": "ipython3",
   "version": "3.7.1"
  }
 },
 "nbformat": 4,
 "nbformat_minor": 2
}
