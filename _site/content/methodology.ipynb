{
 "cells": [
  {
   "cell_type": "markdown",
   "metadata": {},
   "source": [
    "# Metodología de recolección de datos\n",
    "\n",
    "Previo al levantamiento de datos todos los involucrados - Analistas y Operador- fueron informados y entrenados sobre el uso de las herramientas. \n",
    "Los Analistas recibieron un video GIF a sus teléfonos celulares con el procedimiento para compartir datos GPS y el &quot;Operador&quot; encargado de las encuestas individuales, fue entrenado por medio de una videollamada para usar la herramienta HEDERA collect.\n",
    "\n",
    "El levantamiento de información fue realizado en 2 etapas:\n",
    "Durante la primera etapa, los Analistas recolectaron la geolocalización de los clientes en las visitas realizadas en el proceso de evaluación de crédito de los clientes. A su vez, durante esta visita se hizo la entrega al cliente de un folleto como invitación e introducción a la encuesta que realizaría Fondesurco al siguiente día en llamada telefónica.\n",
    "\n",
    "En la segunda etapa se ha hecho uso de los datos recolectados durante la primera etapa, puestos estos a disposición del área de Investigación & Desarrollo de Fondesurco (Flor Villena Sosa) para que el Operador identificara y contactara vía telefónica a los clientes que hayan realizado un desembolso. Durante la llamada telefónica el Operador utilizó la herramienta HEDERA collect, instalada en su celular. El tamaño de muestra correspondió al número de clientes que realizaron una operación de desembolso durante el mes de marzo en las agencias seleccionadas.\n"
   ]
  }
 ],
 "metadata": {
  "kernelspec": {
   "display_name": "Python 3",
   "language": "python",
   "name": "python3"
  },
  "language_info": {
   "codemirror_mode": {
    "name": "ipython",
    "version": 3
   },
   "file_extension": ".py",
   "mimetype": "text/x-python",
   "name": "python",
   "nbconvert_exporter": "python",
   "pygments_lexer": "ipython3",
   "version": "3.7.1"
  }
 },
 "nbformat": 4,
 "nbformat_minor": 2
}
