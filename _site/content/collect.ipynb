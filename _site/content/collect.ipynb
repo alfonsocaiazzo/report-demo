{
 "cells": [
  {
   "cell_type": "markdown",
   "metadata": {},
   "source": [
    "# La herramienta HEDERA collect\n",
    "\n",
    "La herramienta **HEDERA collect** es una aplicación móvil diseñada para captar la información más relevante sobre acceso a servicios básicos a nivel de hogar para medir y monitorear los Objetivos de Desarrollo Sostenible. El primer servicio básico \n",
    "que evalúa HEDERA collect está enfocado en el [ODS 7](https://sustainabledevelopment.un.org/sdg7), Energía para Todos, con un cuestionario para monitoreo de usos, costos y necesidades de energía a nivel de hogar: acceso a electricidad, servicios de electricidad y sistemas de cocción (cocina y combustible). El cuestionario está basado en la metodología del Enfoque Multinivel (MTF), optimizando el tiempo de recolección y validación de datos."
   ]
  }
 ],
 "metadata": {
  "kernelspec": {
   "display_name": "Python 3",
   "language": "python",
   "name": "python3"
  },
  "language_info": {
   "codemirror_mode": {
    "name": "ipython",
    "version": 3
   },
   "file_extension": ".py",
   "mimetype": "text/x-python",
   "name": "python",
   "nbconvert_exporter": "python",
   "pygments_lexer": "ipython3",
   "version": "3.7.1"
  }
 },
 "nbformat": 4,
 "nbformat_minor": 2
}
