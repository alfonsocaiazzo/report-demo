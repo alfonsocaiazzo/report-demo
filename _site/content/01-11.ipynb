{
 "cells": [
  {
   "cell_type": "markdown",
   "metadata": {},
   "source": [
    "# RECOMENDACIONES / ACCIONES PARA MEJORAR\n"
   ]
  },
  {
   "cell_type": "markdown",
   "source": [
    "## Categorizacion MTF \n",
    " \n",
    "Texto: Segun los aparatos que disponga y haga uso el hogar, se clasifican estos siguiendo la matriz de evaluacion del MTF. \n",
    " \n",
    "Imagen: Matriz Acceso a Servicios Electricos MTF\n",
    " \n",
    "Grafica de python: MTF de servicios de electricidad\n",
    " \n",
    "## Fuente de energia vs. servicios de energia\n",
    " \n",
    "Grafica de python: MTF de servicios de electricidad\n",
    " \n",
    "Subsubcapitulo 3: Quintiles de ingreso vs. servicios de energia\n",
    " \n",
    "Grafica de python: Estado civil vs. servicios de energia\n",
    " \n",
    "## Tipo de credito vs. servicios de energia\n",
    " \n",
    "Grafica de python: Tipo de credito vs. servicios de energia\n",
    " \n",
    "## Monto de credito vs. servicios de energia\n",
    " \n",
    "Grafica de python:  Monto de credito vs. servicios de energia\n",
    " \n",
    "## Estado civil vs. servicios de energia\n",
    " \n",
    "Grafica de python: Estado civil vs. servicios de energia\n",
    " \n",
    "## Genero vs. servicios de energia\n",
    " \n",
    "Grafica de python: Estado civil vs. servicios de energia\n",
    "\n",
    "##  TABLA INTERACTIVA"
   ],
   "metadata": {
    "collapsed": false
   }
  }
 ],
 "metadata": {
  "kernelspec": {
   "display_name": "Python 3",
   "language": "python",
   "name": "python3"
  },
  "language_info": {
   "codemirror_mode": {
    "name": "ipython",
    "version": 3
   },
   "file_extension": ".py",
   "mimetype": "text/x-python",
   "name": "python",
   "nbconvert_exporter": "python",
   "pygments_lexer": "ipython3",
   "version": "3.7.1"
  },
  "pycharm": {
   "stem_cell": {
    "cell_type": "raw",
    "source": [],
    "metadata": {
     "collapsed": false
    }
   }
  }
 },
 "nbformat": 4,
 "nbformat_minor": 2
}