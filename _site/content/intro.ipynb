{
 "cells": [
  {
   "cell_type": "markdown",
   "metadata": {
    "pycharm": {
     "name": "#%% md\n"
    }
   },
   "source": [
    "# Energy Access Report\n",
    "\n",
    "The objective of this project is to analyze the access to energy (electricity and cooking solution) in a rural area of Kenya.\n",
    "The research has been conducted by Hillary Kipcoech Korir, a master student at the \n",
    "[Panafrican University for Water and Energy Sciences](https://www.pauwes.dz/) (PAUWES) of Tlemcen (Algeria).\n",
    "\n",
    "Data collection, processing and visualization have been supported by the [HEDERA Impact Toolkit](http://hedera.online/sdg7/index.html) Software. \n",
    "Relevant information concerning the use, associated costs and several attributes describing access to electricity and cooking solutions has been collected the customers of the financial institution in rural and remote areas\n",
    "using the App HEDERA collect.\n",
    "The HEDERA Impact Toolkit allows to efficiently evaluating a baseline for monitoring progress towards Sustainable Development Goal 7 following the [Multi-tier Framework](https://www.esmap.org/node/55526) (MTF), recently established by The World Bank, and the\n",
    "Progress out of Energy Poverty Index (PEPI) [N. Realpe, PhD Thesis 2017](https://depositonce.tu-berlin.de/handle/11303/6708)\n",
    "\n",
    "## Objectives\n",
    "\n",
    "### Why measuring energy access?\n",
    "Defining the concept and measurement of **access to energy** is of great importance to governments and development agencies in order to design and adapt the appropriate policies and programs to achieve the objectives of energy supply for the population. The Sustainable Energy for All initiative (SE4All) launched by the Secretary General of the United Nations in 2011 aims to achieve universal access to modern energy services by 2030. The Sustainable Development Goal 7 (SDG7), adopted in 2015 by all nations, \n",
    "explicitly aims to achieve access to affordable, safe, sustainable and modern energy for all by 2030. \n",
    "According to the \n",
    "[Tracking SDG7: The Energy Progress Report de 2019](https://www.irena.org/publications/2019/May/Tracking-SDG7-The-Energy-Progress-Report-2019), worldwide, it is estimated that more than two billion people lack access to modern energy (grid connection and/or clean and safe fuel for cooking).\n",
    "\n",
    "### A multi-dimensional approach for assessing energy access: The Multi-tier Framework\n",
    "To monitor progress towards the goals of energy access for all, the global and multi-donor technical assistance trust fund, the Energy Sector Management Assistance Program (ESMAP) of the World Bank and the International Energy Agency have led a consortium of 23 international agencies to establish the Global Monitoring Framework of the SE4All (*Global Track Framework* - GTF).\n",
    "It describes how to measure the baseline and progress towards the goals of the SE4All by collecting energy data with regularity.\n",
    "ESMAP, in the framework of the SE4ALL initiative, and in consultation with multiple development partners, has developed the \n",
    "[Multi-tier Framework](https://www.esmap.org/node/5552)(MTF) to monitor and evaluate access to energy following a multidimensional methodology to define both the concept of energy and the parameters for its measurement and monitoring. \n",
    "\n",
    "Traditionally, access to energy has been measured in a binary way:  connected or not connected, cooking with biomass or not.  However, these metrics overlook the quality of the connection, such as the capacity of other technologies to provide energy, such as home solar systems or mini-grids. \n",
    "\n",
    "The need of a multidimensional assessment brought to the definition of the Multi-Tier Framework (MTF), launched by The World Bank\n",
    "in 2015, with the explicit objective to become the new global measurement standard (in each country) for \n",
    "define and monitor the goals of electrification programs, and highlight  the most important challenges \n",
    "to improve access to affordable, reliable and safe energy.\n",
    "For this new methodology, ESMAP has designed a detailed global survey to monitor access to energy at various levels. The main objectives of the survey are:\n",
    "\n",
    "\n",
    "* To establish a global baseline of access to energy, according to the multidimensional definition of the MTF approach;\n",
    "* To transfer capacity to national statistical offices to track progress towards the goals of SE4ALL and the SDGs in the future;\n",
    "* To continue to improve the tools and capabilities to track progress towards the SE4ALL goal of universal access to modern energy services by the year 2030, based on MTF;\n",
    "* To provide reliable data on the energy sector that can meet the needs of multiple stakeholders, including government, regulators, public services, project developers, civil society organizations, development agencies, financial institutions, appliance manufacturers, international programs, and academia.\n",
    "\n",
    "\n",
    "Through detailed household surveys, the collected information allows \n",
    "to answer the main questions related to energy access: how many lack adequate access to energy, how many need to improve access, and what measures will be taken. In this way, the development of the MTF and the methodology represent a milestone for the sector that should be the basis and language for all actors, not only for quantifying, but also for monitoring the progress of access to energy for all.\n",
    "\n",
    "\n",
    "\n",
    "\n",
    "## HEDERA collect\n",
    "[HEDERA collect](http://hedera.online/sdg7/index.html) is a mobile App (Android OS) designed for\n",
    "capturing all relevant information at the household level, in order to efficiently assess and monitor the progress towards\n",
    "the Sustainable Development Goals. The first area of application of HEDERA collect is the access to energy \n",
    "[SDG7](https://sustainabledevelopment.un.org/sdg7). HEDERA collect integrates an optimized version \n",
    "of the detailed energy access assessment survey, \n",
    "tailored to microfinance institution and suitable for offline application, which allows to drastically reduce the data collection costs.\n",
    "\n",
    "## The HEDERA Impact Toolkit (HIT)\n",
    "The ESMAP survey is available in English as [PDF](https://datacatalog.worldbank.org/dataset/rwanda-multi-tier-framework-mtf-survey-2018), along with the data collected in several countries.\n",
    "\n",
    "[HEDERA](http://hedera.online) has optimized the energy survey, \n",
    "in order to facilitate its implementation (reducing training time,\n",
    "automatically validating data, optimizing the logic tree), especially in the rural context. \n",
    "The mobile survey developed by [HEDERA](http://hedera.online) can be completed \n",
    "in less than 15 minutes, extracting all the information required for characterizing access to energy at the household level according to MTF.\n",
    "\n",
    "The evaluation and tier-ranking are then performed automatically, so that users can visualize with minimal effort the\n",
    "detailed tier ranking of the surveyed clients.\n",
    "[HEDERA](http://hedera.online) allows therefore institutions to make demand-driven decisions based on real information at the most detailed level.\n",
    "\n"
   ]
  },
  {
   "cell_type": "code",
   "execution_count": null,
   "metadata": {},
   "outputs": [],
   "source": []
  }
 ],
 "metadata": {
  "kernelspec": {
   "display_name": "Python 3",
   "language": "python",
   "name": "python3"
  },
  "language_info": {
   "codemirror_mode": {
    "name": "ipython",
    "version": 3
   },
   "file_extension": ".py",
   "mimetype": "text/x-python",
   "name": "python",
   "nbconvert_exporter": "python",
   "pygments_lexer": "ipython3",
   "version": "3.7.1"
  },
  "pycharm": {
   "stem_cell": {
    "cell_type": "raw",
    "metadata": {
     "collapsed": false
    },
    "source": []
   }
  }
 },
 "nbformat": 4,
 "nbformat_minor": 2
}
