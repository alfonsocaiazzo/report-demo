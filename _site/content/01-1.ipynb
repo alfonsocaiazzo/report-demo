{
 "cells": [
  {
   "cell_type": "markdown",
   "metadata": {},
   "source": [
    "# Servicios de Energía\n",
    "\n",
    "¿Qué tipo de servicios de energía hacen uso los hogares según sus electrodomésticos?\n"
   ]
  },
  {
   "cell_type": "markdown",
   "metadata": {},
   "source": [
    "## Categorización MTF \n",
    " \n",
    "Según los aparatos que disponga y haga uso el hogar, se clasifican estos siguiendo la matriz de evaluación del MTF. \n",
    " \n",
    "Matriz Acceso a Servicios Electricos MTF\n",
    "\n",
    "\n",
    "\n",
    "PATH = \"/Users/reblochonMasque/Documents/Drawings/\"\n",
    "Image(filename = PATH + \"My_picture.jpg\", width=100, height=100)\n",
    "\n",
    "Grafica de python: MTF de servicios de electricidad\n",
    " \n",
    "## Fuentes de energía vs. servicios \n",
    " \n",
    "Grafica de python: MTF de servicios de electricidad\n",
    " \n",
    "## Quintiles de ingreso vs. servicios de energia\n",
    " \n",
    "Grafica de python: Estado civil vs. servicios de energia\n",
    " \n",
    "## Tipo de crédito vs. servicios\n",
    " \n",
    "Grafica de python: Tipo de credito vs. servicios de energia\n",
    " \n",
    "## Monto de crédito vs. servicios\n",
    " \n",
    "Grafica de python:  Monto de credito vs. servicios de energia\n",
    " \n",
    "## Estado civil vs. servicios\n",
    " \n",
    "Grafica de python: Estado civil vs. servicios de energia\n",
    " \n",
    "## Género vs. servicios\n",
    " \n",
    "Grafica de python: Estado civil vs. servicios de energia\n",
    "\n",
    "##  TABLA INTERACTIVA\n"
   ]
  },
  {
   "cell_type": "code",
   "execution_count": null,
   "metadata": {},
   "outputs": [],
   "source": []
  }
 ],
 "metadata": {
  "kernelspec": {
   "display_name": "Python 3",
   "language": "python",
   "name": "python3"
  },
  "language_info": {
   "codemirror_mode": {
    "name": "ipython",
    "version": 3
   },
   "file_extension": ".py",
   "mimetype": "text/x-python",
   "name": "python",
   "nbconvert_exporter": "python",
   "pygments_lexer": "ipython3",
   "version": "3.7.3"
  },
  "pycharm": {
   "stem_cell": {
    "cell_type": "raw",
    "metadata": {
     "collapsed": false
    },
    "source": []
   }
  }
 },
 "nbformat": 4,
 "nbformat_minor": 2
}
