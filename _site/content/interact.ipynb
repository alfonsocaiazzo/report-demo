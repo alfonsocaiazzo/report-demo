{
 "cells": [
  {
   "cell_type": "markdown",
   "metadata": {},
   "source": [
    "# Analísis interactivo\n",
    "En esa sección es posible calcular y filtrar los datos a nivel de hogar simplemente arrastrando las variables de la lista a la izquierda en la tabla a la derecha"
   ]
  },
  {
   "cell_type": "code",
   "execution_count": 7,
   "metadata": {
    "tags": [
     "hidecode"
    ],
    "ExecuteTime": {
     "end_time": "2019-05-31T16:57:10.553796Z",
     "start_time": "2019-05-31T16:57:10.544794Z"
    },
    "hide_input": false
   },
   "outputs": [
    {
     "data": {
      "text/html": [
       "\n",
       "        <iframe\n",
       "            width=\"100%\"\n",
       "            height=\"500\"\n",
       "            src=\"pivottablejs.html\"\n",
       "            frameborder=\"0\"\n",
       "            allowfullscreen\n",
       "        ></iframe>\n",
       "        "
      ],
      "text/plain": [
       "<IPython.lib.display.IFrame at 0x11b74ab00>"
      ]
     },
     "execution_count": 7,
     "metadata": {},
     "output_type": "execute_result"
    }
   ],
   "source": [
    "import os,sys\n",
    "here = os.path.abspath('')\n",
    "sys.path.insert(0, os.path.normpath(os.path.join(here, '../../src')))\n",
    "import hedera_types as hedera\n",
    "import odk_interface as odk\n",
    "import mtf\n",
    "import pandas as pd\n",
    "from pivottablejs import pivot_ui\n",
    "\n",
    "# institution data\n",
    "sunrise = hedera.mfi(1)\n",
    "odk_data_dir = '../../_datasets/DataODK/'\n",
    "odk_survey_folder = ['PEPI_19_03_19/','PEPI_FONDESURCO_19_04_17/']\n",
    "odk_data_name = [odk_data_dir + odk_survey_folder[0] + 'PEPI_results.csv',\n",
    "                 odk_data_dir + odk_survey_folder[1] + \n",
    "                 'PEPI_FONDESURCO_2_results.csv']\n",
    "sunrise.gpsFile = '../../_datasets/Demo/GPS.csv'\n",
    "data_demo = sunrise.read_survey(odk_data_name)\n",
    "HH = odk.households(data_demo)\n",
    "collections = odk.overview(HH,[sunrise])\n",
    "\n",
    "pivot_ui(HH)\n",
    "\n"
   ]
  },
  {
   "cell_type": "code",
   "execution_count": null,
   "metadata": {},
   "outputs": [],
   "source": []
  }
 ],
 "metadata": {
  "kernelspec": {
   "display_name": "Python 3",
   "language": "python",
   "name": "python3"
  },
  "language_info": {
   "codemirror_mode": {
    "name": "ipython",
    "version": 3
   },
   "file_extension": ".py",
   "mimetype": "text/x-python",
   "name": "python",
   "nbconvert_exporter": "python",
   "pygments_lexer": "ipython3",
   "version": "3.7.1"
  },
  "toc": {
   "base_numbering": 1,
   "nav_menu": {},
   "number_sections": true,
   "sideBar": true,
   "skip_h1_title": false,
   "title_cell": "Table of Contents",
   "title_sidebar": "Contents",
   "toc_cell": false,
   "toc_position": {},
   "toc_section_display": true,
   "toc_window_display": false
  },
  "varInspector": {
   "cols": {
    "lenName": 16,
    "lenType": 16,
    "lenVar": 40
   },
   "kernels_config": {
    "python": {
     "delete_cmd_postfix": "",
     "delete_cmd_prefix": "del ",
     "library": "var_list.py",
     "varRefreshCmd": "print(var_dic_list())"
    },
    "r": {
     "delete_cmd_postfix": ") ",
     "delete_cmd_prefix": "rm(",
     "library": "var_list.r",
     "varRefreshCmd": "cat(var_dic_list()) "
    }
   },
   "types_to_exclude": [
    "module",
    "function",
    "builtin_function_or_method",
    "instance",
    "_Feature"
   ],
   "window_display": false
  }
 },
 "nbformat": 4,
 "nbformat_minor": 2
}
