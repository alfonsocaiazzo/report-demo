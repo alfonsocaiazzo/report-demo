{
 "cells": [
  {
   "cell_type": "markdown",
   "metadata": {},
   "source": [
    "# Conclusions and Recommendations\n",
    "\n",
    "## Cooking Solutions\n",
    "* Uso de más de una cocina: una cuarta parte usa dos cocinas (35 hogares)\n",
    "* Combustible de preferencia: balón de gas; 16 hogares dependen de leña y 3 de la bosta\n",
    "* Uso de horno de leña: 11 hogares \n",
    "* Asequibilidad: para la mitad de los que usan gas, sus gastos son superiores al 5\\% de sus ingresos anuales. Gastos en combustible de cocci\\'on superiores a los de electricidad.\n",
    "* Conveniencia combustible: la adquisici\\'on de gas y su preparaci\\'on para cocinar son rápidas\n",
    "* Disponibilidad del combustible: 45\\% de los que usan leña para cocinar se ven afectados durante los meses de invierno\n",
    "* Seguridad de cocinas y salud del hogar: mínimas ocurrencias de deficiente ventilaci\\'on o durmiendo en la misma \\'area que cocinan; accidentes que requieren atención médica\n",
    "* Índice MTF de la muestra: 71.0/100 (superior que el índice de acceso a electricidad)\n",
    "* Para una quinta parte de la muestra, soluciones de cocinas m\\'as eficientes para cocinar con le\\~na pueden favorecerles en cuanto al tiempo de cocci\\'on y en su seguridad. La oferta de otros combustibles de cocci\\'on puede compensar la dificultad de la disponibilidad y calidad de la leña para los meses de invierno. "
   ]
  }
 ],
 "metadata": {
  "kernelspec": {
   "display_name": "Python 3",
   "language": "python",
   "name": "python3"
  },
  "language_info": {
   "codemirror_mode": {
    "name": "ipython",
    "version": 3
   },
   "file_extension": ".py",
   "mimetype": "text/x-python",
   "name": "python",
   "nbconvert_exporter": "python",
   "pygments_lexer": "ipython3",
   "version": "3.7.1"
  }
 },
 "nbformat": 4,
 "nbformat_minor": 2
}
