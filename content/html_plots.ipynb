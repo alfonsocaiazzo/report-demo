{
 "cells": [
  {
   "cell_type": "markdown",
   "metadata": {},
   "source": [
    "# Import packages"
   ]
  },
  {
   "cell_type": "code",
   "execution_count": 7,
   "metadata": {
    "ExecuteTime": {
     "end_time": "2019-05-31T16:57:10.553796Z",
     "start_time": "2019-05-31T16:57:10.544794Z"
    },
    "hide_input": false
   },
   "outputs": [],
   "source": [
    "import os,sys\n",
    "here = os.path.abspath('')\n",
    "sys.path.insert(0, os.path.normpath(os.path.join(here, '../../src')))\n",
    "import hedera_types as hedera\n",
    "import odk_interface as odk\n",
    "import mtf\n",
    "import pandas as pd\n",
    "import folium\n",
    "\n",
    "\n"
   ]
  },
  {
   "cell_type": "markdown",
   "metadata": {},
   "source": [
    "# Load data"
   ]
  },
  {
   "cell_type": "code",
   "execution_count": 8,
   "metadata": {
    "ExecuteTime": {
     "end_time": "2019-05-31T16:57:12.053841Z",
     "start_time": "2019-05-31T16:57:10.559799Z"
    },
    "hide_input": false
   },
   "outputs": [],
   "source": [
    "# institution data\n",
    "sunrise = hedera.mfi(1)\n",
    "odk_data_dir = '../../_datasets/DataODK/'\n",
    "odk_survey_folder = ['PEPI_19_03_19/','PEPI_FONDESURCO_19_04_17/']\n",
    "odk_data_name = [odk_data_dir + odk_survey_folder[0] + 'PEPI_results.csv',\n",
    "                 odk_data_dir + odk_survey_folder[1] + \n",
    "                 'PEPI_FONDESURCO_2_results.csv']\n",
    "sunrise.gpsFile = '../../_datasets/Demo/GPS.csv'\n",
    "data_demo = sunrise.read_survey(odk_data_name)\n",
    "HH = odk.households(data_demo)\n",
    "collections = odk.overview(HH,[sunrise])"
   ]
  },
  {
   "cell_type": "markdown",
   "metadata": {},
   "source": [
    "# qgrid"
   ]
  },
  {
   "cell_type": "code",
   "execution_count": 9,
   "metadata": {
    "ExecuteTime": {
     "end_time": "2019-05-31T16:57:12.414793Z",
     "start_time": "2019-05-31T16:57:12.057793Z"
    },
    "hide_input": false
   },
   "outputs": [
    {
     "data": {
      "application/vnd.jupyter.widget-view+json": {
       "model_id": "dcbbbe4f67764eae83ea62cb74ad854f",
       "version_major": 2,
       "version_minor": 0
      },
      "text/plain": [
       "QgridWidget(grid_options={'fullWidthRows': True, 'syncColumnCellResize': True, 'forceFitColumns': False, 'defa…"
      ]
     },
     "metadata": {},
     "output_type": "display_data"
    }
   ],
   "source": [
    "#pip install qgrid\n",
    "\n",
    "#new package\n",
    "import qgrid\n",
    "\n",
    "# Tell qgrid to automatically render all DataFrames and Series as qgrids.\n",
    "qgrid.enable()\n",
    "\n",
    "# Render the DataFrame as a qgrid automatically\n",
    "HH_qgrid = qgrid.show_grid(HH, show_toolbar=True,grid_options={'forceFitColumns': False, 'defaultColumnWidth': 200})\n",
    "HH_qgrid"
   ]
  },
  {
   "cell_type": "markdown",
   "metadata": {},
   "source": [
    "# pivottables"
   ]
  },
  {
   "cell_type": "code",
   "execution_count": 10,
   "metadata": {
    "ExecuteTime": {
     "end_time": "2019-05-31T16:57:12.475790Z",
     "start_time": "2019-05-31T16:57:12.425794Z"
    }
   },
   "outputs": [
    {
     "data": {
      "text/html": [
       "\n",
       "        <iframe\n",
       "            width=\"100%\"\n",
       "            height=\"500\"\n",
       "            src=\"pivottablejs.html\"\n",
       "            frameborder=\"0\"\n",
       "            allowfullscreen\n",
       "        ></iframe>\n",
       "        "
      ],
      "text/plain": [
       "<IPython.lib.display.IFrame at 0x24d05088198>"
      ]
     },
     "execution_count": 10,
     "metadata": {},
     "output_type": "execute_result"
    }
   ],
   "source": [
    "# pip install pivottablejs\n",
    "\n",
    "from pivottablejs import pivot_ui\n",
    "\n",
    "#pivot_ui(HH, outfile_path= 'pivottablejs.html')\n",
    "pivot_ui(HH)"
   ]
  },
  {
   "cell_type": "code",
   "execution_count": null,
   "metadata": {},
   "outputs": [],
   "source": []
  }
 ],
 "metadata": {
  "kernelspec": {
   "display_name": "Python [conda env:.conda-HEDERAbook1] *",
   "language": "python",
   "name": "conda-env-.conda-HEDERAbook1-py"
  },
  "language_info": {
   "codemirror_mode": {
    "name": "ipython",
    "version": 3
   },
   "file_extension": ".py",
   "mimetype": "text/x-python",
   "name": "python",
   "nbconvert_exporter": "python",
   "pygments_lexer": "ipython3",
   "version": "3.7.3"
  },
  "toc": {
   "base_numbering": 1,
   "nav_menu": {},
   "number_sections": true,
   "sideBar": true,
   "skip_h1_title": false,
   "title_cell": "Table of Contents",
   "title_sidebar": "Contents",
   "toc_cell": false,
   "toc_position": {},
   "toc_section_display": true,
   "toc_window_display": false
  },
  "varInspector": {
   "cols": {
    "lenName": 16,
    "lenType": 16,
    "lenVar": 40
   },
   "kernels_config": {
    "python": {
     "delete_cmd_postfix": "",
     "delete_cmd_prefix": "del ",
     "library": "var_list.py",
     "varRefreshCmd": "print(var_dic_list())"
    },
    "r": {
     "delete_cmd_postfix": ") ",
     "delete_cmd_prefix": "rm(",
     "library": "var_list.r",
     "varRefreshCmd": "cat(var_dic_list()) "
    }
   },
   "types_to_exclude": [
    "module",
    "function",
    "builtin_function_or_method",
    "instance",
    "_Feature"
   ],
   "window_display": false
  }
 },
 "nbformat": 4,
 "nbformat_minor": 2
}
