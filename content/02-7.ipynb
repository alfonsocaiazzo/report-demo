{
 "cells": [
  {
   "cell_type": "markdown",
   "metadata": {
    "pycharm": {
     "name": "#%% md\n"
    }
   },
   "source": [
    "# SEGURIDAD El sistema de cocina es seguro o se expone el hogar a posibles accidentes?\n",
    "La seguridad de la solucion de cocina esta determinada por la ventilacion, la presencia de hollin y la ocurrencia de accidentes. Buenas condiciones de ventilacion favorecen a la salud.\n",
    "MISMOS SUBSUBCAPiTULOS ANTERIORES (VER TIPOS DE COCINAS)"
   ]
  }
 ],
 "metadata": {
  "kernelspec": {
   "display_name": "Python 3",
   "language": "python",
   "name": "python3"
  },
  "language_info": {
   "codemirror_mode": {
    "name": "ipython",
    "version": 3
   },
   "file_extension": ".py",
   "mimetype": "text/x-python",
   "name": "python",
   "nbconvert_exporter": "python",
   "pygments_lexer": "ipython3",
   "version": "3.7.1"
  },
  "pycharm": {
   "stem_cell": {
    "cell_type": "raw",
    "source": [],
    "metadata": {
     "collapsed": false
    }
   }
  }
 },
 "nbformat": 4,
 "nbformat_minor": 2
}