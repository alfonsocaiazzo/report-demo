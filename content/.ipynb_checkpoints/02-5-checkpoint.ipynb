{
 "cells": [
  {
   "cell_type": "markdown",
   "metadata": {
    "pycharm": {
     "name": "#%% md\n"
    }
   },
   "source": [
    "# ASEQUIBILIDAD Pueden los hogares permitirse pagar por la cocina y el combustible?\n",
    "El suministro de electricidad debe ser asequible para todos. La asequibilidad se mide segun la proporcion de gasto que representa el servicio a las finanzas de los hogares.\n",
    "\n",
    "MISMOS SUBSUBCAPiTULOS ANTERIORES (VER TIPOS DE COCINAS)"
   ]
  }
 ],
 "metadata": {
  "kernelspec": {
   "display_name": "Python 3",
   "language": "python",
   "name": "python3"
  },
  "language_info": {
   "codemirror_mode": {
    "name": "ipython",
    "version": 3
   },
   "file_extension": ".py",
   "mimetype": "text/x-python",
   "name": "python",
   "nbconvert_exporter": "python",
   "pygments_lexer": "ipython3",
   "version": "3.7.1"
  },
  "pycharm": {
   "stem_cell": {
    "cell_type": "raw",
    "source": [],
    "metadata": {
     "collapsed": false
    }
   }
  }
 },
 "nbformat": 4,
 "nbformat_minor": 2
}