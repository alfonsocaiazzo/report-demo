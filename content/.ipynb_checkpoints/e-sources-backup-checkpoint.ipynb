{
 "cells": [
  {
   "cell_type": "markdown",
   "metadata": {},
   "source": [
    "# Sources of electricity"
   ]
  },
  {
   "cell_type": "code",
   "execution_count": 1,
   "metadata": {},
   "outputs": [],
   "source": [
    "# load packages\n",
    "import os,sys\n",
    "here = os.path.abspath('')\n",
    "sys.path.insert(0, os.path.normpath(os.path.join(here, '../../src')))\n",
    "import hedera_types as hedera\n",
    "import odk_interface as odk\n",
    "import mtf\n",
    "import matplotlib.pyplot as plt\n",
    "\n",
    "# change plot layout\n",
    "plt.rcParams[\"font.family\"] = \"Tw Cen MT\"\n",
    "plt.rcParams.update({'font.size': 20})\n",
    "\n",
    "\n",
    "\n",
    "# load institution data\n",
    "fondesurco = hedera.mfi(2)\n",
    "odk_data_dir = '../../_datasets/DataODK/'\n",
    "odk_survey_folder = ['PEPI_19_03_19/','PEPI_FONDESURCO_19_04_17/']\n",
    "odk_data_name = [odk_data_dir + odk_survey_folder[0] + 'PEPI_results.csv',\n",
    "                 odk_data_dir + odk_survey_folder[1] + \n",
    "                 'PEPI_FONDESURCO_2_results.csv']\n",
    "fondesurco.gpsFile = '../../_datasets/Fondesurco/HederaGPS/All.txt'\n",
    "fondesurco.data_client_file = '../../_datasets/Fondesurco/ClientDatabases/data_with_GPS_3.csv'\n",
    "data = fondesurco.read_survey(odk_data_name)\n",
    "fondesurco.HH = odk.households(data)\n",
    "\n",
    "# get summaries of used sources, fuels, stoces\n",
    "collection_overview = odk.overview(fondesurco.HH,[fondesurco])\n",
    "\n",
    "sources_summary = odk.summary(collection_overview,\n",
    "                                  hedera.keys().powerSources,\n",
    "                              hedera.names('en').powerSources,\n",
    "                              hedera.keys().powerSourcesColors)"
   ]
  },
  {
   "cell_type": "markdown",
   "metadata": {},
   "source": [
    "## Household sources\n",
    "The vaste majority of the sample is connected to the grid"
   ]
  },
  {
   "cell_type": "code",
   "execution_count": 2,
   "metadata": {
    "tags": [
     "hidecode"
    ]
   },
   "outputs": [
    {
     "data": {
      "image/png": "[encoded data removed]",
      "text/plain": [
       "<Figure size 504x288 with 1 Axes>"
      ]
     },
     "metadata": {
      "needs_background": "light"
     },
     "output_type": "display_data"
    }
   ],
   "source": [
    "odk.plot_sources_summary(collection_overview,'en')"
   ]
  },
  {
   "cell_type": "markdown",
   "metadata": {},
   "source": [
    "## Energy expenses\n",
    "Households spend in average less than 30 Soles per month in electricity.\n"
   ]
  },
  {
   "cell_type": "code",
   "execution_count": 3,
   "metadata": {},
   "outputs": [
    {
     "data": {
      "image/png": "[encoded data removed]",
      "text/plain": [
       "<Figure size 432x288 with 1 Axes>"
      ]
     },
     "metadata": {
      "needs_background": "light"
     },
     "output_type": "display_data"
    }
   ],
   "source": [
    "fondesurco.plot_mean_per_office(fondesurco.HH,'energy_expenses')"
   ]
  },
  {
   "cell_type": "markdown",
   "metadata": {
    "pycharm": {
     "name": "#%% md\n"
    }
   },
   "source": [
    "### Expenses vs. Source\n",
    "Households using candles have higher energy costs."
   ]
  },
  {
   "cell_type": "code",
   "execution_count": 4,
   "metadata": {},
   "outputs": [
    {
     "data": {
      "image/png": "[encoded data removed]",
      "text/plain": [
       "<Figure size 432x288 with 1 Axes>"
      ]
     },
     "metadata": {
      "needs_background": "light"
     },
     "output_type": "display_data"
    }
   ],
   "source": [
    "colors = []\n",
    "for k in sources_summary.used_keys:\n",
    "    ic = hedera.keys().powerSources.index(k)\n",
    "    colors.append(hedera.keys().powerSourcesColors[ic])\n",
    "fondesurco.plot_mean_per_category(fondesurco.HH,'energy_expenses',\n",
    "                                  'primary_electricity_source',\n",
    "                                  sources_summary.used_keys,\n",
    "                                  sources_summary.used_names,\n",
    "                                  colors, figName = None)"
   ]
  },
  {
   "cell_type": "code",
   "execution_count": null,
   "metadata": {},
   "outputs": [],
   "source": []
  },
  {
   "cell_type": "code",
   "execution_count": null,
   "metadata": {},
   "outputs": [],
   "source": []
  },
  {
   "cell_type": "code",
   "execution_count": null,
   "metadata": {},
   "outputs": [],
   "source": []
  },
  {
   "cell_type": "code",
   "execution_count": null,
   "metadata": {},
   "outputs": [],
   "source": []
  }
 ],
 "metadata": {
  "kernelspec": {
   "display_name": "Python 3",
   "language": "python",
   "name": "python3"
  },
  "language_info": {
   "codemirror_mode": {
    "name": "ipython",
    "version": 3
   },
   "file_extension": ".py",
   "mimetype": "text/x-python",
   "name": "python",
   "nbconvert_exporter": "python",
   "pygments_lexer": "ipython3",
   "version": "3.7.1"
  },
  "pycharm": {
   "stem_cell": {
    "cell_type": "raw",
    "metadata": {
     "collapsed": false
    },
    "source": []
   }
  }
 },
 "nbformat": 4,
 "nbformat_minor": 2
}
