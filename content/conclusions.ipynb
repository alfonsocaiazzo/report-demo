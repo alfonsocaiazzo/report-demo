{
 "cells": [
  {
   "cell_type": "markdown",
   "metadata": {},
   "source": [
    "# Conclusions and Recommendations\n",
    "\n",
    "## Electricity\n",
    "\n",
    "* Connected to the grid 99% of the sample\n",
    "* Electricity services: most with lighting, cell phones, TV and radio (over 70%); of higher energy consumption, blender (50%) and iron (30%)\n",
    "* Monthly electricity expenses: 20 S /. average (network); up to 120 S /. spend those that are supplemented by candles\n",
    "* Affordability: 15% of the sample has electricity expenses greater than 5% of its income.\n",
    "* Availability: energy available when needed\n",
    "* Reliability: only one third does not suffer from unforeseen cuts of light. In all agencies, courts are presented.\n",
    "* Legality: 5 households are connected informally\n",
    "* Quality: 32% of households affected by voltage fluctuations\n",
    "* Security: in its great majority, without problems\n",
    "* MTF Index (Electricity) of the sample: 46.6 / 100\n",
    "* Electricity costs are relatively low, which does not justify the purchase of a secondary device for the supply of electricity during the cuts. Given the altitude of the districts, refrigerators are not indispensable. Less than 10 households use a solution to heat the water. Solar water heaters can be a good that improves comfort and quality of life.\n",
    "\n",
    "## Cooking Solutions\n",
    "\n",
    "* Use of more than one kitchen: a quarter uses two kitchens (35 households)\n",
    "* Preferred fuel: gas balloon; 16 households depend on firewood and 3 of the dung\n",
    "* Use of wood oven: 11 households\n",
    "* Affordability: for half of those who use gas, their expenses are greater than 5% of their annual income. Expenses in cooking fuel greater than those of electricity.\n",
    "* Fuel convenience: the purchase of gas and its preparation for cooking are fast\n",
    "* Fuel availability: 45% of those who use wood for cooking are affected during the winter months\n",
    "* Kitchen safety and home health: minimal occurrences of poor ventilation or sleeping in the same area they cook; accidents that require medical attention\n",
    "* MTF Index (Cooking) of the sample: 71.0 / 100 (higher than the index of access to electricity)\n",
    "* For a fifth of the sample, more efficient kitchen solutions for cooking with firewood can favor them in terms of cooking time and safety. The supply of other cooking fuels can compensate for the difficulty of the availability and quality of firewood for the winter months."
   ]
  },
  {
   "cell_type": "code",
   "execution_count": null,
   "metadata": {},
   "outputs": [],
   "source": []
  }
 ],
 "metadata": {
  "kernelspec": {
   "display_name": "Python 3",
   "language": "python",
   "name": "python3"
  },
  "language_info": {
   "codemirror_mode": {
    "name": "ipython",
    "version": 3
   },
   "file_extension": ".py",
   "mimetype": "text/x-python",
   "name": "python",
   "nbconvert_exporter": "python",
   "pygments_lexer": "ipython3",
   "version": "3.7.1"
  }
 },
 "nbformat": 4,
 "nbformat_minor": 2
}
