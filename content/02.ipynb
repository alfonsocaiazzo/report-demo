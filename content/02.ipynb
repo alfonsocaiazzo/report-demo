{
 "cells": [
  {
   "cell_type": "markdown",
   "metadata": {
    "pycharm": {
     "name": "#%% md\n"
    }
   },
   "source": [
    "# Soluciones de coccion\n",
    "\n",
    "Las soluciones de coccion comprenden la cocina y el combustible usado por el hogar. Anteriormente, el acceso a energia para coccion se media de manera binaria: cocina o no con biomasa. En este capitulo se observara al detalle los resultados de todos los atributos relacionados a las soluciones de cocina y como se puede mejorar el acceso a energia moderna para cocinar."
   ]
  }
 ],
 "metadata": {
  "kernelspec": {
   "display_name": "Python 3",
   "language": "python",
   "name": "python3"
  },
  "language_info": {
   "codemirror_mode": {
    "name": "ipython",
    "version": 3
   },
   "file_extension": ".py",
   "mimetype": "text/x-python",
   "name": "python",
   "nbconvert_exporter": "python",
   "pygments_lexer": "ipython3",
   "version": "3.7.1"
  },
  "pycharm": {
   "stem_cell": {
    "cell_type": "raw",
    "source": [],
    "metadata": {
     "collapsed": false
    }
   }
  }
 },
 "nbformat": 4,
 "nbformat_minor": 2
}