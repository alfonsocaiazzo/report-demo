{
 "cells": [
  {
   "cell_type": "markdown",
   "metadata": {
    "pycharm": {
     "name": "#%% md\n"
    }
   },
   "source": [
    "# Introducción\n",
    "\n",
    "## Reporte de Acceso a Energía\n",
    "\n",
    "El objetivo del presente proyecto es analizar el acceso a energía de una muestra de clientes de la institución de microfinanzas <strong>Fondesurco</strong> a través del uso de la herramienta HEDERA collect con el fin de extraer información relevante sobre el uso, costos asociados y atributos del acceso a electricidad y soluciones de cocina de clientes de Fondesurco en zonas rurales y remotas. \n",
    "Con este fin, por medio del uso de la aplicación de la herramienta de HEDERA se recogió una línea base del Objetivo de Desarrollo Sostenible 7, elaborando un primer diagnóstico del acceso a energía siguiendo los estándares de métricas internacionales, la metodología del “Enfoque Multinivel (Multi-Tier Framework (MTF))” desarrollado por el Banco Mundial y del Índice de Progreso fuera de la Pobreza Energética (Progress out of Energy Poverty Index (PEPI)) [N. Realpe, PhD Thesis 2017](https://depositonce.tu-berlin.de/handle/11303/6708)\n",
    "\n",
    "\n",
    "## Fondesurco\n",
    "\n",
    "Fondesurco es una cooperativa de ahorros y de crédito de la ciudad de Arequipa, Perú. Con más de 26 oficinas en el sur del país, localizados en los departamentos: Arequipa, Moquegua, Puno, Ayacucho y Huancavelica, Fondesurco tiene una visión de cooperativa con la visión de consolidarse en las zonas rurales donde las posibilidades de acceso a crédito son escasas. Con una transformación reciente de organización no gubernamental (ONG) a Cooperativa, Fondesurco aumentó la oferta de servicios financieros incluyendo el ahorro. Como institución pionera en el país en el desarrollo de productos de crédito de microfinanzas verdes en el marco de su Programa de Soluciones de Energía Renovable (SER), su objetivo es ofrecer un mejor acceso a las energías limpias y aumentar la eficiencia energética a la población rural de bajos recursos en sus zonas de cobertura.\n",
    "\n",
    "\n",
    "\n",
    "## HEDERA\n",
    "HEDERA es una Startup basada en Berlín que tiene por objetivo revolucionar la forma en que el impacto se mide, monitorea y reporta. HEDERA ofrece la plataforma para compartir y escalar actividades de inversión sostenible & monitorear de manera costo-eficiente, descentralizada y centrada en el cliente, el impacto con respecto a los alcances de los ODS. A través de sus herramientas móviles, HEDERA empodera a las instituciones a recoger información a bajo costo y visualizarla analizada, siguiendo los estándares internacionales de medición de impacto. Además, a través de su red, HEDERA permite la conexión de actores en el sector de inversión de impacto de una manera eficiente y económica.\n",
    "\n"
   ]
  }
 ],
 "metadata": {
  "kernelspec": {
   "display_name": "Python 3",
   "language": "python",
   "name": "python3"
  },
  "language_info": {
   "codemirror_mode": {
    "name": "ipython",
    "version": 3
   },
   "file_extension": ".py",
   "mimetype": "text/x-python",
   "name": "python",
   "nbconvert_exporter": "python",
   "pygments_lexer": "ipython3",
   "version": "3.7.1"
  },
  "pycharm": {
   "stem_cell": {
    "cell_type": "raw",
    "metadata": {
     "collapsed": false
    },
    "source": []
   }
  }
 },
 "nbformat": 4,
 "nbformat_minor": 2
}
