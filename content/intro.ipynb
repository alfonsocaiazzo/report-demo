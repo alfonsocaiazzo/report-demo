{
 "cells": [
  {
   "cell_type": "markdown",
   "metadata": {
    "pycharm": {
     "name": "#%% md\n"
    }
   },
   "source": [
    "# Introduction\n",
    "\n",
    "## Energy Access Report\n",
    "\n",
    "The objective of this project is to analyze the access to energy of a sample of clients of a microfinance institution with the HEDERA Impact Toolkit Software. \n",
    "Relevant information concerning the use, associated costs and several attributes describing access to electricity and cooking solutions has been collected the customers of the financial institution in rural and remote areas\n",
    "using the App HEDERA collect.\n",
    "The HEDERA Impact Toolkit allows to efficiently evaluating a baseline for monitoring progress towards Sustainable Development Goal 7 following the [Multi-tier Framework](https://www.esmap.org/node/55526) (MTF), recently established by The World Bank, and the\n",
    "Progress out of Energy Poverty Index (PEPI) [N. Realpe, PhD Thesis 2017](https://depositonce.tu-berlin.de/handle/11303/6708)\n",
    "\n",
    "\n",
    "\n",
    "\n",
    "## HEDERA\n",
    "HEDERA is a Berlin-based startup that develops sustainable solutions for impact assesment, aiming to revolutionize the way in which impact is measured, monitored and reported. HEDERA offers the platform to share and scale sustainable investment activities & monitor impact and progress towards the SDGs at the household level. \n",
    "Through its mobile tools, HEDERA empowers institutions to collect information at laffordable cost, offering then automatic analysis and web-based visualization tools. The analysis and reporting follow the latest international standards of impact measurement. In addition, through its network, HEDERA allows the efficient connection of stakeholders in the whole impact investing sector.\n",
    "\n"
   ]
  }
 ],
 "metadata": {
  "kernelspec": {
   "display_name": "Python 3",
   "language": "python",
   "name": "python3"
  },
  "language_info": {
   "codemirror_mode": {
    "name": "ipython",
    "version": 3
   },
   "file_extension": ".py",
   "mimetype": "text/x-python",
   "name": "python",
   "nbconvert_exporter": "python",
   "pygments_lexer": "ipython3",
   "version": "3.7.1"
  },
  "pycharm": {
   "stem_cell": {
    "cell_type": "raw",
    "metadata": {
     "collapsed": false
    },
    "source": []
   }
  }
 },
 "nbformat": 4,
 "nbformat_minor": 2
}
