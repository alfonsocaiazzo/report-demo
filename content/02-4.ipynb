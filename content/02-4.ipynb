{
 "cells": [
  {
   "cell_type": "markdown",
   "metadata": {
    "pycharm": {
     "name": "#%% md\n"
    }
   },
   "source": [
    "# CONVENIENCIA Que tanto tarda el hogar en conseguir y preparar el combustible y la cocina?\n",
    "\n",
    "Texto: La conveniencia del combustible esta determinada por i) el tiempo que gasta el hogar para la adquisicion o recoleccion del combustible y ii) el tiempo de preparacion del combustible para cocinar.\n",
    "\n",
    "TABLA/IMAGEN: Matriz de Calificacion MTF\n",
    "MISMOS SUBSUBCAPiTULOS ANTERIORES (VER TIPOS DE COCINAS)"
   ]
  }
 ],
 "metadata": {
  "kernelspec": {
   "display_name": "Python 3",
   "language": "python",
   "name": "python3"
  },
  "language_info": {
   "codemirror_mode": {
    "name": "ipython",
    "version": 3
   },
   "file_extension": ".py",
   "mimetype": "text/x-python",
   "name": "python",
   "nbconvert_exporter": "python",
   "pygments_lexer": "ipython3",
   "version": "3.7.1"
  },
  "pycharm": {
   "stem_cell": {
    "cell_type": "raw",
    "source": [],
    "metadata": {
     "collapsed": false
    }
   }
  }
 },
 "nbformat": 4,
 "nbformat_minor": 2
}